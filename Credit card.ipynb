{
 "cells": [
  {
   "cell_type": "markdown",
   "id": "b9d87a3e",
   "metadata": {},
   "source": [
    "# CREDIT CARD FRAUD DETECTION USING MACHINE LEARNING ALGORITHM"
   ]
  },
  {
   "cell_type": "code",
   "execution_count": 19,
   "id": "c4d144a6",
   "metadata": {},
   "outputs": [],
   "source": [
    "import pandas as pd\n",
    "import numpy as np\n",
    "from datetime import datetime\n",
    "from geopy.distance import geodesic\n",
    "import matplotlib.pyplot as plt\n",
    "import seaborn as sns\n",
    "from sklearn.model_selection import train_test_split\n",
    "from sklearn.linear_model import LogisticRegression\n",
    "from sklearn.metrics import classification_report, accuracy_score, confusion_matrix\n"
   ]
  },
  {
   "cell_type": "code",
   "execution_count": 5,
   "id": "41fc377b",
   "metadata": {},
   "outputs": [
    {
     "name": "stdout",
     "output_type": "stream",
     "text": [
      "Training Data\n",
      "   Unnamed: 0 trans_date_trans_time            cc_num  \\\n",
      "0           0   2019-01-01 00:00:18  2703186189652095   \n",
      "1           1   2019-01-01 00:00:44      630423337322   \n",
      "2           2   2019-01-01 00:00:51    38859492057661   \n",
      "3           3   2019-01-01 00:01:16  3534093764340240   \n",
      "4           4   2019-01-01 00:03:06   375534208663984   \n",
      "\n",
      "                             merchant       category     amt      first  \\\n",
      "0          fraud_Rippin, Kub and Mann       misc_net    4.97   Jennifer   \n",
      "1     fraud_Heller, Gutmann and Zieme    grocery_pos  107.23  Stephanie   \n",
      "2                fraud_Lind-Buckridge  entertainment  220.11     Edward   \n",
      "3  fraud_Kutch, Hermiston and Farrell  gas_transport   45.00     Jeremy   \n",
      "4                 fraud_Keeling-Crist       misc_pos   41.96      Tyler   \n",
      "\n",
      "      last gender                        street  ...      lat      long  \\\n",
      "0    Banks      F                561 Perry Cove  ...  36.0788  -81.1781   \n",
      "1     Gill      F  43039 Riley Greens Suite 393  ...  48.8878 -118.2105   \n",
      "2  Sanchez      M      594 White Dale Suite 530  ...  42.1808 -112.2620   \n",
      "3    White      M   9443 Cynthia Court Apt. 038  ...  46.2306 -112.1138   \n",
      "4   Garcia      M              408 Bradley Rest  ...  38.4207  -79.4629   \n",
      "\n",
      "   city_pop                                job         dob  \\\n",
      "0      3495          Psychologist, counselling  1988-03-09   \n",
      "1       149  Special educational needs teacher  1978-06-21   \n",
      "2      4154        Nature conservation officer  1962-01-19   \n",
      "3      1939                    Patent attorney  1967-01-12   \n",
      "4        99     Dance movement psychotherapist  1986-03-28   \n",
      "\n",
      "                          trans_num   unix_time  merch_lat  merch_long  \\\n",
      "0  0b242abb623afc578575680df30655b9  1325376018  36.011293  -82.048315   \n",
      "1  1f76529f8574734946361c461b024d99  1325376044  49.159047 -118.186462   \n",
      "2  a1a22d70485983eac12b5b88dad1cf95  1325376051  43.150704 -112.154481   \n",
      "3  6b849c168bdad6f867558c3793159a81  1325376076  47.034331 -112.561071   \n",
      "4  a41d7549acf90789359a9aa5346dcb46  1325376186  38.674999  -78.632459   \n",
      "\n",
      "   is_fraud  \n",
      "0         0  \n",
      "1         0  \n",
      "2         0  \n",
      "3         0  \n",
      "4         0  \n",
      "\n",
      "[5 rows x 23 columns]\n",
      "Testing Data\n",
      "   Unnamed: 0 trans_date_trans_time            cc_num  \\\n",
      "0           0   2020-06-21 12:14:25  2291163933867244   \n",
      "1           1   2020-06-21 12:14:33  3573030041201292   \n",
      "2           2   2020-06-21 12:14:53  3598215285024754   \n",
      "3           3   2020-06-21 12:15:15  3591919803438423   \n",
      "4           4   2020-06-21 12:15:17  3526826139003047   \n",
      "\n",
      "                               merchant        category    amt   first  \\\n",
      "0                 fraud_Kirlin and Sons   personal_care   2.86    Jeff   \n",
      "1                  fraud_Sporer-Keebler   personal_care  29.84  Joanne   \n",
      "2  fraud_Swaniawski, Nitzsche and Welch  health_fitness  41.28  Ashley   \n",
      "3                     fraud_Haley Group        misc_pos  60.05   Brian   \n",
      "4                 fraud_Johnston-Casper          travel   3.19  Nathan   \n",
      "\n",
      "       last gender                       street  ...      lat      long  \\\n",
      "0   Elliott      M            351 Darlene Green  ...  33.9659  -80.9355   \n",
      "1  Williams      F             3638 Marsh Union  ...  40.3207 -110.4360   \n",
      "2     Lopez      F         9333 Valentine Point  ...  40.6729  -73.5365   \n",
      "3  Williams      M  32941 Krystal Mill Apt. 552  ...  28.5697  -80.8191   \n",
      "4    Massey      M     5783 Evan Roads Apt. 465  ...  44.2529  -85.0170   \n",
      "\n",
      "   city_pop                     job         dob  \\\n",
      "0    333497     Mechanical engineer  1968-03-19   \n",
      "1       302  Sales professional, IT  1990-01-17   \n",
      "2     34496       Librarian, public  1970-10-21   \n",
      "3     54767            Set designer  1987-07-25   \n",
      "4      1126      Furniture designer  1955-07-06   \n",
      "\n",
      "                          trans_num   unix_time  merch_lat  merch_long  \\\n",
      "0  2da90c7d74bd46a0caf3777415b3ebd3  1371816865  33.986391  -81.200714   \n",
      "1  324cc204407e99f51b0d6ca0055005e7  1371816873  39.450498 -109.960431   \n",
      "2  c81755dbbbea9d5c77f094348a7579be  1371816893  40.495810  -74.196111   \n",
      "3  2159175b9efe66dc301f149d3d5abf8c  1371816915  28.812398  -80.883061   \n",
      "4  57ff021bd3f328f8738bb535c302a31b  1371816917  44.959148  -85.884734   \n",
      "\n",
      "   is_fraud  \n",
      "0         0  \n",
      "1         0  \n",
      "2         0  \n",
      "3         0  \n",
      "4         0  \n",
      "\n",
      "[5 rows x 23 columns]\n"
     ]
    }
   ],
   "source": [
    "# Load your datasets\n",
    "train_data = pd.read_csv(\"fraudTrain.csv\")\n",
    "test_data = pd.read_csv(\"fraudtest.csv\")\n",
    "\n",
    "# Check the first few rows of both datasets to ensure they are loaded correctly\n",
    "print(\"Training Data\")\n",
    "print(train_data.head())\n",
    "\n",
    "print(\"Testing Data\")\n",
    "print(test_data.head())\n"
   ]
  },
  {
   "cell_type": "code",
   "execution_count": 6,
   "id": "f8cfc2ab",
   "metadata": {},
   "outputs": [],
   "source": [
    "# Convert 'trans_date_trans_time' to datetime in training data\n",
    "train_data['trans_date_trans_time'] = pd.to_datetime(train_data['trans_date_trans_time'])\n",
    "\n",
    "# Extract additional datetime features in training data\n",
    "train_data['trans_year'] = train_data['trans_date_trans_time'].dt.year\n",
    "train_data['trans_month'] = train_data['trans_date_trans_time'].dt.month\n",
    "train_data['trans_day'] = train_data['trans_date_trans_time'].dt.day\n",
    "train_data['trans_time'] = train_data['trans_date_trans_time'].dt.time\n",
    "\n",
    "# Convert 'dob' (date of birth) to age in training data\n",
    "train_data['dob'] = pd.to_datetime(train_data['dob'], errors='coerce')\n",
    "train_data['age'] = (datetime.now() - train_data['dob']).dt.days // 365\n",
    "train_data['age'] = train_data['age'].fillna(train_data['age'].median())\n"
   ]
  },
  {
   "cell_type": "code",
   "execution_count": 7,
   "id": "2f22d084",
   "metadata": {},
   "outputs": [],
   "source": [
    "# Convert 'trans_date_trans_time' to datetime in testing data\n",
    "test_data['trans_date_trans_time'] = pd.to_datetime(test_data['trans_date_trans_time'])\n",
    "\n",
    "# Extract additional datetime features in testing data\n",
    "test_data['trans_year'] = test_data['trans_date_trans_time'].dt.year\n",
    "test_data['trans_month'] = test_data['trans_date_trans_time'].dt.month\n",
    "test_data['trans_day'] = test_data['trans_date_trans_time'].dt.day\n",
    "test_data['trans_time'] = test_data['trans_date_trans_time'].dt.time\n",
    "\n",
    "# Convert 'dob' (date of birth) to age in testing data\n",
    "test_data['dob'] = pd.to_datetime(test_data['dob'], errors='coerce')\n",
    "test_data['age'] = (datetime.now() - test_data['dob']).dt.days // 365\n",
    "test_data['age'] = test_data['age'].fillna(test_data['age'].median())\n"
   ]
  },
  {
   "cell_type": "code",
   "execution_count": 8,
   "id": "77ea7d94",
   "metadata": {},
   "outputs": [],
   "source": [
    "# Calculate the distance to merchant for training data\n",
    "def calculate_distance(row):\n",
    "    transaction_location = (row['lat'], row['long'])\n",
    "    merchant_location = (row['merch_lat'], row['merch_long'])\n",
    "    return geodesic(transaction_location, merchant_location).km\n",
    "\n",
    "train_data['distance_to_merchant'] = train_data.apply(calculate_distance, axis=1)\n"
   ]
  },
  {
   "cell_type": "code",
   "execution_count": 9,
   "id": "9b425413",
   "metadata": {},
   "outputs": [],
   "source": [
    "# Calculate the distance to merchant for testing data\n",
    "test_data['distance_to_merchant'] = test_data.apply(calculate_distance, axis=1)\n"
   ]
  },
  {
   "cell_type": "code",
   "execution_count": 11,
   "id": "ca9516c1",
   "metadata": {},
   "outputs": [
    {
     "data": {
      "image/png": "[encoded data removed]",
      "text/plain": [
       "<Figure size 720x360 with 1 Axes>"
      ]
     },
     "metadata": {
      "needs_background": "light"
     },
     "output_type": "display_data"
    }
   ],
   "source": [
    "# Plot fraud distribution for both training and testing data\n",
    "plt.figure(figsize=(10,5))\n",
    "sns.countplot(x='is_fraud', data=train_data, color='blue', label='Training Data')\n",
    "sns.countplot(x='is_fraud', data=test_data, color='red', label='Testing Data')\n",
    "plt.title('Fraud Distribution (0: Not Fraud, 1: Fraud)')\n",
    "plt.xlabel('Is Fraud')\n",
    "plt.ylabel('Count')\n",
    "plt.legend()\n",
    "plt.show()\n"
   ]
  },
  {
   "cell_type": "code",
   "execution_count": 12,
   "id": "70447fb9",
   "metadata": {},
   "outputs": [],
   "source": [
    "# Select relevant features for model (same for both training and testing data)\n",
    "features = ['amt', 'age', 'trans_year', 'trans_month', 'distance_to_merchant']\n",
    "\n",
    "# For Training Data\n",
    "X_train = train_data[features]\n",
    "y_train = train_data['is_fraud']\n",
    "\n",
    "# For Testing Data\n",
    "X_test = test_data[features]\n",
    "y_test = test_data['is_fraud']\n"
   ]
  },
  {
   "cell_type": "code",
   "execution_count": 15,
   "id": "f41aae02",
   "metadata": {
    "scrolled": true
   },
   "outputs": [],
   "source": [
    "# Train a logistic regression model on training data\n",
    "model = LogisticRegression()\n",
    "model.fit(X_train, y_train)\n",
    "\n",
    "# Predictions on test data\n",
    "y_pred = model.predict(X_test)\n",
    "\n"
   ]
  },
  {
   "cell_type": "code",
   "execution_count": 24,
   "id": "f770575a",
   "metadata": {},
   "outputs": [
    {
     "name": "stdout",
     "output_type": "stream",
     "text": [
      "   is_fraud\n",
      "0         0\n",
      "1         0\n",
      "2         0\n",
      "3         0\n",
      "4         0\n"
     ]
    }
   ],
   "source": [
    "\n",
    "# Ensure the 'is_fraud' column contains only 0 or 1 (in case of any non-binary values)\n",
    "# This will handle cases where values might be present as 'yes'/'no', 'fraud'/'non-fraud', etc.\n",
    "data['is_fraud'] = data['is_fraud'].apply(lambda x: 1 if x == 'fraud' else (0 if x == 'non-fraud' else x))\n",
    "\n",
    "# Ensure that we have the correct data types\n",
    "data['is_fraud'] = data['is_fraud'].astype(int)\n",
    "\n",
    "# Check the resulting data\n",
    "print(data[['is_fraud']].head())\n"
   ]
  },
  {
   "cell_type": "code",
   "execution_count": 16,
   "id": "01193b90",
   "metadata": {},
   "outputs": [
    {
     "name": "stdout",
     "output_type": "stream",
     "text": [
      "Accuracy on Test Data: 0.9955175187459849\n",
      "              precision    recall  f1-score   support\n",
      "\n",
      "           0       1.00      1.00      1.00    553574\n",
      "           1       0.00      0.00      0.00      2145\n",
      "\n",
      "    accuracy                           1.00    555719\n",
      "   macro avg       0.50      0.50      0.50    555719\n",
      "weighted avg       0.99      1.00      0.99    555719\n",
      "\n"
     ]
    }
   ],
   "source": [
    "# Evaluate the model\n",
    "print(f\"Accuracy on Test Data: {accuracy_score(y_test, y_pred)}\")\n",
    "print(classification_report(y_test, y_pred))\n"
   ]
  },
  {
   "cell_type": "code",
   "execution_count": 17,
   "id": "a85eff90",
   "metadata": {},
   "outputs": [
    {
     "data": {
      "image/png": "[encoded data removed]",
      "text/plain": [
       "<Figure size 432x432 with 2 Axes>"
      ]
     },
     "metadata": {
      "needs_background": "light"
     },
     "output_type": "display_data"
    }
   ],
   "source": [
    "# Plot confusion matrix for test data predictions\n",
    "conf_matrix = confusion_matrix(y_test, y_pred)\n",
    "plt.figure(figsize=(6,6))\n",
    "sns.heatmap(conf_matrix, annot=True, fmt=\"d\", cmap=\"Blues\", xticklabels=['Not Fraud', 'Fraud'], yticklabels=['Not Fraud', 'Fraud'])\n",
    "plt.title('Confusion Matrix')\n",
    "plt.xlabel('Predicted')\n",
    "plt.ylabel('Actual')\n",
    "plt.show()\n"
   ]
  }
 ],
 "metadata": {
  "kernelspec": {
   "display_name": "Python 3 (ipykernel)",
   "language": "python",
   "name": "python3"
  },
  "language_info": {
   "codemirror_mode": {
    "name": "ipython",
    "version": 3
   },
   "file_extension": ".py",
   "mimetype": "text/x-python",
   "name": "python",
   "nbconvert_exporter": "python",
   "pygments_lexer": "ipython3",
   "version": "3.9.12"
  }
 },
 "nbformat": 4,
 "nbformat_minor": 5
}
